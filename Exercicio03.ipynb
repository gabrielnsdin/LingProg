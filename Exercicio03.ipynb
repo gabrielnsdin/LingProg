{
 "cells": [
  {
   "cell_type": "markdown",
   "metadata": {},
   "source": [
    "1\\. Faça um Programa que peça dois números e imprima o maior deles."
   ]
  },
  {
   "cell_type": "code",
   "execution_count": null,
   "metadata": {
    "scrolled": true
   },
   "outputs": [],
   "source": [
    "x = int(input(\"Digite o primeiro numero.\\n\"))\n",
    "y = int(input(\"Digite o segundo numero.\\n\"))\n",
    "\n",
    "if x > y:\n",
    "    print(\"\\nO maior é:\",x)\n",
    "elif y > x:\n",
    "    print(\"\\nO maior é:\",y)\n",
    "else:\n",
    "    print(\"\\nO dois numeros são iguais.\")"
   ]
  },
  {
   "cell_type": "markdown",
   "metadata": {},
   "source": [
    "2\\. Faça um Programa que verifique se uma letra digitada é vogal ou consoante."
   ]
  },
  {
   "cell_type": "code",
   "execution_count": null,
   "metadata": {},
   "outputs": [],
   "source": [
    "x = input(\"Digite uma letra.\\n\")\n",
    "if x.lower() in ['a','e','i','o','u']:\n",
    "    print(x,\"é vogal\")\n",
    "else:\n",
    "    print(x,\"é consoante\")"
   ]
  },
  {
   "cell_type": "markdown",
   "metadata": {},
   "source": [
    "3\\. Faça um programa para a leitura de duas notas parciais de um aluno. O programa\n",
    "deve calcular a média alcançada por aluno e apresentar:\n",
    "- A mensagem \"Aprovado\", se a média alcançada for maior ou igual a sete;\n",
    "- A mensagem \"Reprovado\", se a média for menor do que sete;\n",
    "- A mensagem \"Aprovado com Distinção\", se a média for igual a dez."
   ]
  },
  {
   "cell_type": "code",
   "execution_count": null,
   "metadata": {},
   "outputs": [],
   "source": [
    "notas = []\n",
    "notas.append(int(input(\"Digite a primeira nota\\n\")))\n",
    "notas.append(int(input(\"Digite a segunda nota\\n\")))\n",
    "media = (notas[0] + notas[1])/2\n",
    "\n",
    "if media == 10:\n",
    "    print(\"Aprovado com Distinção\")\n",
    "elif media >= 7:\n",
    "    print(\"Aprovado\")\n",
    "else:\n",
    "    print(\"Reprovado\")"
   ]
  },
  {
   "cell_type": "markdown",
   "metadata": {},
   "source": [
    "4\\. Faça um Programa que leia três números e mostre-os em ordem decrescente."
   ]
  },
  {
   "cell_type": "code",
   "execution_count": null,
   "metadata": {},
   "outputs": [],
   "source": [
    "numeros = []\n",
    "numeros.append(int(input(\"Digite o primeiro numero\\n\")))\n",
    "numeros.append(int(input(\"Digite o segundo numero\\n\")))\n",
    "numeros.append(int(input(\"Digite o terceiro numero\\n\")))\n",
    "numeros.sort()\n",
    "numeros.reverse()\n",
    "\n",
    "print(\"\\n\",numeros)"
   ]
  },
  {
   "cell_type": "markdown",
   "metadata": {},
   "source": [
    "5\\. As Organizações Tabajara resolveram dar um aumento de salário aos seus\n",
    "colaboradores e lhe contrataram para desenvolver o programa que calculará os\n",
    "reajustes.\n",
    "Faça um programa que recebe o salário de um colaborador e o reajuste segundo o\n",
    "seguinte critério, baseado no salário atual:\n",
    "- salários até R\\$ 280,00 (incluindo) : aumento de 20%\n",
    "- salários entre R\\$ 280,00 e R\\$ 700,00 : aumento de 15%\n",
    "- salários entre R\\$ 700,00 e R$ 1500,00 : aumento de 10%\n",
    "- salários de R\\$ 1500,00 em diante: aumento de 5% Após o aumento ser realizado,\n",
    "informe na tela:\n",
    "- o salário antes do reajuste;\n",
    "- o percentual de aumento aplicado;\n",
    "- o valor do aumento;\n",
    "- o novo salário, após o aumento."
   ]
  },
  {
   "cell_type": "code",
   "execution_count": null,
   "metadata": {},
   "outputs": [],
   "source": [
    "salario = float(input(\"Digite o salario \"))\n",
    "\n",
    "if salario <= 280.00:\n",
    "    reajuste = 0.20;\n",
    "elif salario > 280.00 and salario <= 700.00: \n",
    "    reajuste = 0.15;\n",
    "elif salario > 700.00 and salario <= 1500.00: \n",
    "    reajuste = 0.10;\n",
    "elif salario > 1500.00: \n",
    "    reajuste = 0.05;\n",
    "    \n",
    "\n",
    "aumento = salario * reajuste\n",
    "salario_novo = salario + aumento\n",
    "    \n",
    "print(\"Salario antigo R$ %.2f\" %salario)\n",
    "print(\"O reajuste foi de %.0f%%\" %(reajuste * 100))\n",
    "print(\"O aumento foi de R$ %.2f \" %aumento)\n",
    "print(\"O novo salario é de R$ %.2f\" %salario_novo)"
   ]
  },
  {
   "cell_type": "markdown",
   "metadata": {},
   "source": [
    "6\\. Faça um Programa que leia um número e exiba o dia correspondente da semana.\n",
    "(1-Domingo, 2- Segunda, etc.), se digitar outro valor deve aparecer valor inválido."
   ]
  },
  {
   "cell_type": "code",
   "execution_count": null,
   "metadata": {},
   "outputs": [],
   "source": [
    "semana = {1:\"Domingo\", 2:\"Segunda\", 3:\"Terça\", 4:\"Quarta\", 5:\"Quinta\", 6:\"Sexta\", 7:\"Sabado\"}\n",
    "x = int(input(\"Digite o numero \"))\n",
    "\n",
    "print(semana[x])"
   ]
  },
  {
   "cell_type": "markdown",
   "metadata": {},
   "source": [
    "7\\. Faça um programa que lê as duas notas parciais obtidas por um aluno numa\n",
    "disciplina ao longo de um semestre, e calcule a sua média. A atribuição de conceitos\n",
    "obedece à tabela abaixo:\n",
    "Média de Aproveitamento Conceito\n",
    "Entre 9.0 e 10.0 A\n",
    "Entre 7.5 e 9.0 B\n",
    "Entre 6.0 e 7.5 C\n",
    "Entre 4.0 e 6.0 D\n",
    "Entre 4.0 e zero E\n",
    "O algoritmo deve mostrar na tela as notas, a média, o conceito correspondente e a\n",
    "mensagem “APROVADO” se o conceito for A, B ou C ou “REPROVADO” se o conceito\n",
    "for D ou E."
   ]
  },
  {
   "cell_type": "code",
   "execution_count": null,
   "metadata": {},
   "outputs": [],
   "source": [
    "notas = []\n",
    "notas.append(float(input(\"Digite a primeira nota \")))\n",
    "notas.append(float(input(\"Digite a segunda nota \")))\n",
    "media = (notas[0] + notas[1])/2\n",
    "\n",
    "if media >= 0 and media < 4:\n",
    "    mensagem = \"REPROVADO\"\n",
    "    conceito = \"E\"\n",
    "if media >= 4 and media < 6:\n",
    "    mensagem = \"REPROVADO\"\n",
    "    conceito = \"D\"\n",
    "if media >= 6 and media < 7.5:\n",
    "    mensagem = \"APROVADO\"\n",
    "    conceito = \"C\"\n",
    "if media >= 7.5 and media < 9:\n",
    "    mensagem = \"APROVADO\"\n",
    "    conceito = \"B\"\n",
    "if media >= 9 and media < 10:\n",
    "    mensagem = \"APROVADO\"\n",
    "    conceito = \"A\"\n",
    "    \n",
    "print(\"Notas:\",notas[0], notas[1])\n",
    "print(\"Media:\", media)\n",
    "print(\"Resultado:\", mensagem)\n",
    "print(\"Conceito:\", conceito)"
   ]
  },
  {
   "cell_type": "markdown",
   "metadata": {},
   "source": [
    "8\\. Faça um Programa que peça os 3 lados de um triângulo. O programa deverá\n",
    "informar se os valores podem ser um triângulo. Indique, caso os lados formem um\n",
    "triângulo, se o mesmo é: equilátero, isósceles ou escaleno.\n",
    "Dicas:\n",
    "- Três lados formam um triângulo quando a soma de quaisquer dois lados for maior\n",
    "que o terceiro;\n",
    "- Triângulo Equilátero: três lados iguais;\n",
    "- Triângulo Isósceles: quaisquer dois lados iguais;\n",
    "- Triângulo Escaleno: três lados diferentes;"
   ]
  },
  {
   "cell_type": "code",
   "execution_count": null,
   "metadata": {},
   "outputs": [],
   "source": [
    "lados = []\n",
    "lados.append(float(input(\"Digite o primeiro lado \")))\n",
    "lados.append(float(input(\"Digite o segundo lado \")))\n",
    "lados.append(float(input(\"Digite o segundo lado \")))\n",
    "\n",
    "lad1 = lados[1] + lados[2] > lados[0]\n",
    "lad2 = lados[0] + lados[2] > lados[1]\n",
    "lad3 = lados[0] + lados[1] > lados[2]\n",
    "\n",
    "if lad1 and lad2 and lad3:\n",
    "    tri = 'É um triângulo'\n",
    "    if lados[0] == lados[1] == lados[2]:\n",
    "        tipo = 'Equilátero'\n",
    "    elif lados[0] == lados[1] or lados[0] == lados[2] or lados[1] == lados[2]:\n",
    "        tipo = 'Isósceles'\n",
    "    else:\n",
    "        tipo = 'Escaleno'\n",
    "    \n",
    "    print(tri,\"do tipo\",tipo)\n",
    "else:\n",
    "    print(\"Não é triângulo\")\n",
    "    "
   ]
  },
  {
   "cell_type": "markdown",
   "metadata": {},
   "source": [
    "9\\. Faça um programa que calcule as raízes de uma equação do segundo grau, na\n",
    "forma ax2 + bx + c. O programa deverá pedir os valores de a, b e c e fazer as\n",
    "consistências, informando ao usuário nas seguintes situações:\n",
    "- Se o usuário informar o valor de A igual a zero, a equação não é do segundo grau e\n",
    "o programa não deve fazer pedir os demais valores, sendo encerrado;\n",
    "- Se o delta calculado for negativo, a equação não possui raizes reais. Informe ao\n",
    "usuário e encerre o programa;\n",
    "- Se o delta calculado for igual a zero a equação possui apenas uma raiz real;\n",
    "informe-a ao usuário;\n",
    "- Se o delta for positivo, a equação possui duas raiz reais; informe-as ao usuário;"
   ]
  },
  {
   "cell_type": "code",
   "execution_count": null,
   "metadata": {},
   "outputs": [],
   "source": [
    "import math\n",
    "print(math.sqrt(16))\n",
    "a = int(input(\"Digite o valor de A \"))\n",
    "b = int(input(\"Digite o valor de B \"))\n",
    "c = int(input(\"Digite o valor de C \"))\n",
    "\n",
    "if a != 0:\n",
    "    delta = b**2 - 4 * a * c\n",
    "    \n",
    "    if delta < 0:\n",
    "        print(\"A equação não possui raizes reais.\")\n",
    "    else:\n",
    "        if delta == 0:\n",
    "            print(\"A equação possui apenas uma raiz real.\")\n",
    "            raizes = False\n",
    "        \n",
    "        raiz1 = (-b + math.sqrt(delta))/(2 * a)\n",
    "        raiz2 = (-b - math.sqrt(delta))/(2 * a)\n",
    "       \n",
    "        if raiz1 != raiz2:\n",
    "            print(raiz1)\n",
    "            print(raiz2)\n",
    "        else:\n",
    "            print(raiz1)\n",
    "        \n",
    "        \n",
    "    \n",
    "        "
   ]
  },
  {
   "cell_type": "markdown",
   "metadata": {},
   "source": [
    "10\\. Faça um Programa para um caixa eletrônico. O programa deverá perguntar ao\n",
    "usuário a valor do saque e depois informar quantas notas de cada valor serão\n",
    "fornecidas. As notas disponíveis serão as de 1, 5, 10, 50 e 100 reais. O valor mínimo é\n",
    "de 10 reais e o máximo de 600 reais. O programa não deve se preocupar com a\n",
    "quantidade de notas existentes na máquina.\n",
    "- Exemplo 1: Para sacar a quantia de 256 reais, o programa fornece duas notas de\n",
    "100, uma nota de 50, uma nota de 5 e uma nota de 1;\n",
    "- Exemplo 2: Para sacar a quantia de 399 reais, o programa fornece três notas de\n",
    "100, uma nota de 50, quatro notas de 10, uma nota de 5 e quatro notas de 1."
   ]
  },
  {
   "cell_type": "code",
   "execution_count": 17,
   "metadata": {},
   "outputs": [
    {
     "name": "stdout",
     "output_type": "stream",
     "text": [
      "Digite o valor do saque 399\n",
      "Valor de R$ 399 efetuado com sucesso\n",
      "Notas de R$100 3\n",
      "Notas de R$50 1\n",
      "Notas de R$10 0\n",
      "Notas de R$5 1\n",
      "Notas de R$1 4\n"
     ]
    }
   ],
   "source": [
    "count_100 = 0\n",
    "count_50 = 0\n",
    "count_10 = 0\n",
    "count_5 = 0\n",
    "count_1 = 0\n",
    "\n",
    "saque_efetuado = False \n",
    "\n",
    "valor_saque = int(input(\"Digite o valor do saque \"))\n",
    "saque_count = valor_saque\n",
    "\n",
    "if saque_count / 100 >= 0:\n",
    "    count_100 = int(saque_count / 100)\n",
    "    saque_count = saque_count % 100\n",
    "if saque_count / 50 >= 0:\n",
    "    count_50 = int(saque_count / 50)\n",
    "    saque_count = saque_count % 50\n",
    "if saque_count / 20 >= 0:\n",
    "    count_20 = int(saque_count / 20)\n",
    "    saque_count = saque_count % 20\n",
    "if saque_count / 10 >= 0:\n",
    "    count_10 = int(saque_count / 10)\n",
    "    saque_count = saque_count % 10\n",
    "if saque_count / 5 >= 0:\n",
    "    count_5 = int(saque_count / 5)\n",
    "    saque_count = saque_count % 5\n",
    "if saque_count / 1 >= 0:\n",
    "    count_1 = int(saque_count / 1)\n",
    "    saque_count = saque_count % 1\n",
    "\n",
    "\n",
    "print(\"Valor de R$\",valor_saque,\"efetuado com sucesso\")\n",
    "print(\"Notas de R$100\",count_100)\n",
    "print(\"Notas de R$50\",count_50)\n",
    "print(\"Notas de R$10\",count_10)\n",
    "print(\"Notas de R$5\",count_5)                              \n",
    "print(\"Notas de R$1\",count_1)      "
   ]
  },
  {
   "cell_type": "markdown",
   "metadata": {},
   "source": [
    "11\\. Faça um programa que faça 5 perguntas para uma pessoa sobre um crime. As\n",
    "perguntas são:\n",
    "\"Telefonou para a vítima?\"\n",
    "\"Esteve no local do crime?\"\n",
    "\"Mora perto da vítima?\"\n",
    "\"Devia para a vítima?\"\n",
    "\"Já trabalhou com a vítima?\"\n",
    "O programa deve no final emitir uma classificação sobre a participação da pessoa no\n",
    "crime. Se a pessoa responder positivamente a 2 questões ela deve ser classificada\n",
    "como \"Suspeita\", entre 3 e 4 como \"Cúmplice\" e 5 como \"Assassino\". Caso contrário,\n",
    "ele será classificado como \"Inocente\".\n"
   ]
  },
  {
   "cell_type": "code",
   "execution_count": null,
   "metadata": {},
   "outputs": [],
   "source": [
    "from collections import Counter\n",
    "\n",
    "respostas = []\n",
    "respostas.append(input(\"Telefonou para a vítima? \").lower())\n",
    "respostas.append(input(\"Esteve no local do crime? \").lower())\n",
    "respostas.append(input(\"Mora perto da vítima? \").lower())\n",
    "respostas.append(input(\"Devia para a vítima? \").lower())\n",
    "respostas.append(input(\"Já trabalhou com a vítima? \").lower())\n",
    "\n",
    "resp_count = dict(Counter(respostas))\n",
    "\n",
    "if 'sim' in resp_count:\n",
    "    if resp_count['sim'] == 2:\n",
    "        print(\"Suspeita\")\n",
    "    elif resp_count['sim'] >= 3 and resp_count['sim'] <= 4 :\n",
    "        print(\"Cúmplice\")\n",
    "    elif resp_count['sim'] == 5:\n",
    "        print(\"Assassino\")\n",
    "else:\n",
    "    print(\"Inocente\")\n"
   ]
  },
  {
   "cell_type": "markdown",
   "metadata": {},
   "source": [
    "12\\. Uma fruteira está vendendo frutas com a seguinte tabela de preços:\n",
    "-         Até 5 Kg             Acima de 5 Kg\n",
    "- Morango  R\\$ 2,50 por Kg      R\\$ 2,20 por Kg\n",
    "- Maçã     R\\$ 1,80 por  Kg      R\\$ 1,50 por Kg\n",
    "\n",
    "Se o cliente comprar mais de 8 Kg em frutas ou o valor total da compra ultrapassar\n",
    "R$ 25,00, receberá ainda um desconto de 10\\% sobre este total. Escreva um\n",
    "algoritmo para ler a quantidade (em Kg) de morangos e a quantidade (em Kg) de\n",
    "maças adquiridas e escreva o valor a ser pago pelo cliente."
   ]
  },
  {
   "cell_type": "code",
   "execution_count": null,
   "metadata": {},
   "outputs": [],
   "source": [
    "quant_morango = int(input(\"Digite a quantidade de morangos kg \"))\n",
    "quant_macas = int(input(\"Digite a quantidade de maças kg \"))\n",
    "\n",
    "quant_fruta = quant_morango + quant_macas\n",
    "conta = 0\n",
    "\n",
    "if quant_morango <= 5:\n",
    "    conta += quant_morango * 2.50\n",
    "elif quant_morango > 5:\n",
    "    conta += quant_morango * 2.20\n",
    "\n",
    "if quant_macas <= 5:\n",
    "    conta += quant_macas * 1.80\n",
    "elif quant_macas > 5:\n",
    "    conta += quant_macas * 1.50\n",
    "    \n",
    "if quant_fruta > 8 or conta > 25.00:\n",
    "    conta -= conta * 0.1\n",
    "\n",
    "print(\"Conta: R$\",conta)\n",
    "    "
   ]
  },
  {
   "cell_type": "markdown",
   "metadata": {},
   "source": [
    "13\\. Faça um programa que peça uma nota, entre zero e dez. Mostre uma mensagem\n",
    "caso o valor seja inválido e continue pedindo até que o usuário informe um valor\n",
    "válido."
   ]
  },
  {
   "cell_type": "code",
   "execution_count": null,
   "metadata": {},
   "outputs": [],
   "source": [
    "nota = -1\n",
    "while(nota < 0 or nota > 10):\n",
    "    nota = int(input(\"Digite uma nota entre 0 e 10: \"))\n"
   ]
  },
  {
   "cell_type": "markdown",
   "metadata": {},
   "source": [
    "13\\. Faça um programa que leia e valide as seguintes informações:\n",
    "Nome: maior que 3 caracteres;\n",
    "Idade: entre 0 e 150;\n",
    "Salário: maior que zero;\n",
    "Sexo: 'f' ou 'm';\n",
    "Estado Civil: 's', 'c', 'v', 'd';"
   ]
  },
  {
   "cell_type": "code",
   "execution_count": null,
   "metadata": {},
   "outputs": [],
   "source": [
    "nome = \"\"\n",
    "idade = -1\n",
    "salario = 0\n",
    "sexo = \"\"\n",
    "estado_civil = \"\"\n",
    "\n",
    "condicao = False\n",
    "\n",
    "while(not condicao):\n",
    "    nome = input(\"Digite um nome maior que 3 caracteres \")\n",
    "    idade = int(input(\"Digite uma idade entre 0 e 150 anos \"))\n",
    "    salario = int(input(\"Digite um salario maior que 0 \"))\n",
    "    sexo = input(\"Digite o sexo 'f', 'm' \")\n",
    "    estado_civil = input(\"Digite o estado civil 's','c','v','d' \")\n",
    "    \n",
    "    condicao_nome = (len(nome) > 3) \n",
    "    condicao_idade = (idade >= 0 or idade <= 150) \n",
    "    condicao_salario = (salario > 0) \n",
    "    condicao_sexo = sexo.lower() in ['f','m']\n",
    "    condicao_estado_civil = estado_civil.lower() in ['s','c','v','d']\n",
    "    \n",
    "    if (condicao_nome or condicao_idade or condicao_salario or condicao_sexo or condicao_estado_civil):\n",
    "        condicao = True\n",
    "        print(\"Dados validos\")\n",
    "    else:\n",
    "        print(\"Dados invalidos\")"
   ]
  },
  {
   "cell_type": "markdown",
   "metadata": {},
   "source": [
    "14\\. Faça um programa que leia 5 números e informe o maior número."
   ]
  },
  {
   "cell_type": "code",
   "execution_count": null,
   "metadata": {},
   "outputs": [],
   "source": [
    "for i in range(1,6):\n",
    "    msg = \"Digite o \"+str(i)+\"º numero \"\n",
    "    x = int(input(msg))\n",
    "    \n",
    "    if i == 1:\n",
    "        maior = x\n",
    "    \n",
    "    if x > maior:\n",
    "        maior = x\n",
    "\n",
    "print(\"O maior é\",maior)       \n"
   ]
  },
  {
   "cell_type": "markdown",
   "metadata": {},
   "source": [
    "15\\. Faça um programa que leia 5 números e informe a soma e a média dos números."
   ]
  },
  {
   "cell_type": "code",
   "execution_count": null,
   "metadata": {},
   "outputs": [],
   "source": [
    "for i in range(1,6):\n",
    "    msg = \"Digite o \"+str(i)+\"º numero \"\n",
    "    x = int(input(msg))\n",
    "    \n",
    "    if i == 1:\n",
    "        soma = x\n",
    "    else:\n",
    "        soma += x\n",
    "\n",
    "\n",
    "media = soma/5        \n",
    "        \n",
    "print(\"A soma é\",soma)\n",
    "print(\"A media é \",media)"
   ]
  },
  {
   "cell_type": "markdown",
   "metadata": {},
   "source": [
    "16\\. Faça um programa que imprima na tela apenas os números ímpares entre 1 e 50."
   ]
  },
  {
   "cell_type": "code",
   "execution_count": null,
   "metadata": {},
   "outputs": [],
   "source": [
    "for i in range(1,50):\n",
    "    if i % 2 != 0:\n",
    "        print(i)"
   ]
  },
  {
   "cell_type": "markdown",
   "metadata": {},
   "source": [
    "17\\. Desenvolva um gerador de tabuada, capaz de gerar a tabuada de qualquer\n",
    "número inteiro entre 1 a 10. O usuário deve informar de qual numero ele deseja ver\n",
    "a tabuada. A saída deve ser conforme o exemplo abaixo:\n",
    "Tabuada de 5:\n",
    "5 X 1 = 5\n",
    "5 X 2 = 10\n",
    "...\n",
    "5 X 10 = 50"
   ]
  },
  {
   "cell_type": "code",
   "execution_count": null,
   "metadata": {},
   "outputs": [],
   "source": [
    "x = int(input(\"Digite o numero\"))\n",
    "\n",
    "for i in range(1,11):\n",
    "    print(x,\"X\",i,\" = \", x * i)"
   ]
  },
  {
   "cell_type": "markdown",
   "metadata": {},
   "source": [
    "18\\. A série de Fibonacci é formada pela seqüência 1,1,2,3,5,8,13,21,34,55,... Faça um\n",
    "programa capaz de gerar a série até o n−ésimo termo."
   ]
  },
  {
   "cell_type": "code",
   "execution_count": null,
   "metadata": {},
   "outputs": [],
   "source": [
    "n = int(input(\"Digite o numero 'n' para a serie de Fibonacci (n−ésimo termo) \"))\n",
    "fibo_num_a = 1\n",
    "fibo_num_b = 1\n",
    "fibo_num_aux = 0\n",
    "\n",
    "print('')\n",
    "\n",
    "for i in range(n):\n",
    "    if i > 1:\n",
    "        fibo_num_aux = fibo_num_a\n",
    "        fibo_num_a = fibo_num_a + fibo_num_b\n",
    "        fibo_num_b = fibo_num_aux\n",
    "        \n",
    "    print(fibo_num_a)\n",
    "    "
   ]
  },
  {
   "cell_type": "markdown",
   "metadata": {},
   "source": [
    "19\\. Faça um programa que calcule o fatorial de um número inteiro fornecido pelo\n",
    "usuário. Ex.: 5!=5.4.3.2.1=120"
   ]
  },
  {
   "cell_type": "code",
   "execution_count": null,
   "metadata": {},
   "outputs": [],
   "source": [
    "x = int(input(\"Digite um numero para fazer o fatorial \"))\n",
    "aux = 1\n",
    "resultado = 1\n",
    "\n",
    "while aux < x:\n",
    "    resultado *= aux * (aux + 1)\n",
    "    aux += 2\n",
    "    \n",
    "    if aux == x:\n",
    "        resultado *= x\n",
    "    \n",
    "print(resultado)"
   ]
  },
  {
   "cell_type": "markdown",
   "metadata": {},
   "source": [
    "20\\. O Sr. Manoel Joaquim possui uma grande loja de artigos de R\\$ 1,99, com cerca\n",
    "de 10 caixas. Para agilizar o cálculo de quanto cada cliente deve pagar ele\n",
    "desenvolveu um tabela que contém o número de itens que o cliente comprou e ao\n",
    "lado o valor da conta. Desta forma a atendente do caixa precisa apenas contar\n",
    "quantos itens o cliente está levando e olhar na tabela de preços. Você foi contratado\n",
    "para desenvolver o programa que monta esta tabela de preços, que conterá os\n",
    "preços de 1 até 50 produtos, conforme o exemplo abaixo:\n",
    "Lojas Quase Dois - Tabela de preços\n",
    "1- R\\$ 1.99\n",
    "2- R\\$ 3.98\n",
    "...\n",
    "50 - R$ 99.50"
   ]
  },
  {
   "cell_type": "code",
   "execution_count": null,
   "metadata": {},
   "outputs": [],
   "source": [
    "for i in range(1,51):\n",
    "    preco = 1.99 * i\n",
    "    print(i,\"- R$ %.2f\" % preco)"
   ]
  },
  {
   "cell_type": "markdown",
   "metadata": {},
   "source": [
    "21\\. O Sr. Manoel Joaquim acaba de adquirir uma panificadora e pretende implantar\n",
    "a metodologia da tabelinha, que já é um sucesso na sua loja de 1,99. Você foi\n",
    "contratado para desenvolver o programa que monta a tabela de preços de pães, de\n",
    "1 até 50 pães, a partir do preço do pão informado pelo usuário, conforme o exemplo\n",
    "abaixo:\n",
    "Preço do pão: R\\$ 0.18\n",
    "Panificadora Pão de Ontem - Tabela de preços\n",
    "1 - R\\$ 0.18\n",
    "2 - R\\$ 0.36\n",
    "...\n",
    "50 - R\\$ 9.00"
   ]
  },
  {
   "cell_type": "code",
   "execution_count": null,
   "metadata": {},
   "outputs": [],
   "source": [
    "preco_base = float(input(\"Preço do pão: R$ \"))\n",
    "\n",
    "for i in range(1,51):\n",
    "    preco = preco_base * i\n",
    "\n",
    "    print(i,\"- R$ %.2f\" % preco)"
   ]
  },
  {
   "cell_type": "markdown",
   "metadata": {},
   "source": [
    "22\\. O Sr. Manoel Joaquim expandiu seus negócios para além dos negócios de 1,99 e\n",
    "agora possui uma loja de conveniências. Faça um programa que implemente uma\n",
    "caixa registradora rudimentar. O programa deverá receber um número\n",
    "desconhecido de valores referentes aos preços das mercadorias. Um valor zero deve\n",
    "ser informado pelo operador para indicar o final da compra. O programa deve então\n",
    "mostrar o total da compra e perguntar o valor em dinheiro que o cliente forneceu,\n",
    "para então calcular e mostrar o valor do troco. Após esta operação, o programa\n",
    "deverá voltar ao ponto inicial, para registrar a próxima compra. A saída deve ser\n",
    "conforme o exemplo abaixo:\n",
    "Lojas Tabajara\n",
    "Produto 1: R\\$ 2.20\n",
    "Produto 2: R\\$ 5.80\n",
    "Produto 3: R\\$ 0\n",
    "Total: R\\$ 9.00\n",
    "Dinheiro: R\\$ 20.00\n",
    "Troco: R\\$ 11.00"
   ]
  },
  {
   "cell_type": "code",
   "execution_count": null,
   "metadata": {},
   "outputs": [],
   "source": [
    "while True:\n",
    "    i = 1\n",
    "    preco_produto = 1\n",
    "    conta = 0\n",
    "    troco = 0\n",
    "    \n",
    "    while preco_produto != 0:\n",
    "        msg = \"Produto \"+str(i)+\": R$ \"\n",
    "        preco_produto = float(input(msg))\n",
    "        \n",
    "        conta += preco_produto\n",
    "        i += 1\n",
    "        \n",
    "    print(\"Total: R$ %.2f\" % conta)\n",
    "    pagamento = float(input(\"Dinheiro: R$ \"))\n",
    "    \n",
    "    if pagamento > conta:\n",
    "        troco = pagamento - conta\n",
    "    \n",
    "    print(\"Troco: R$ %.2f\" % troco)\n",
    "    "
   ]
  },
  {
   "cell_type": "code",
   "execution_count": null,
   "metadata": {},
   "outputs": [],
   "source": []
  },
  {
   "cell_type": "code",
   "execution_count": null,
   "metadata": {},
   "outputs": [],
   "source": []
  },
  {
   "cell_type": "markdown",
   "metadata": {},
   "source": [
    "24\\. Faça um programa que receba o valor de uma dívida e mostre uma tabela com\n",
    "os seguintes dados: valor da dívida, valor dos juros, quantidade de parcelas e valor\n",
    "da parcela.\n",
    "Os juros e a quantidade de parcelas seguem a tabela abaixo:\n",
    "Quantidade de Parcelas % de Juros sobre o valor inicial da dívida\n",
    "1 0\n",
    "3 10\n",
    "6 15\n",
    "9 20\n",
    "12 25\n",
    "Exemplo de saída do programa:\n",
    "Valor da Dívida Valor dos Juros Quantidade de Parcelas Valor da Parcela\n",
    "R\\$ 1.000,00 0 1 R\\$ 1.000,00\n",
    "R\\$ 1.100,00 100 3 R\\$ 366,00\n",
    "R\\$ 1.150,00 150 6 R\\$ 191,67"
   ]
  },
  {
   "cell_type": "code",
   "execution_count": 6,
   "metadata": {},
   "outputs": [
    {
     "name": "stdout",
     "output_type": "stream",
     "text": [
      "Digite o valor da divida1000\n",
      "Valor da Dívida Valor dos Juros Quantidade de Parcelas Valor da Parcela\n",
      "R$ 1000.00 0.00 1 R$ 1000.00\n",
      "R$ 1100.00 100.00 3 R$ 366.67\n",
      "R$ 1150.00 150.00 6 R$ 191.67\n",
      "R$ 1200.00 200.00 9 R$ 133.33\n",
      "R$ 1250.00 250.00 12 R$ 104.17\n"
     ]
    }
   ],
   "source": [
    "divida = float(input(\"Digite o valor da divida\"))\n",
    "parcela = 1\n",
    "\n",
    "print(\"Valor da Dívida Valor dos Juros Quantidade de Parcelas Valor da Parcela\")\n",
    "\n",
    "while parcela < 13:\n",
    "    \n",
    "    if parcela % 3 == 0 or parcela == 1:\n",
    "        if parcela == 1:\n",
    "            juros = 0\n",
    "        elif parcela == 3:\n",
    "            juros = 0.1\n",
    "        elif parcela == 6:\n",
    "            juros = 0.15\n",
    "        elif parcela == 9:\n",
    "            juros = 0.20\n",
    "        elif parcela == 12:\n",
    "            juros = 0.25\n",
    "        \n",
    "        valor_juros = divida * juros\n",
    "        divida_juros = divida + valor_juros\n",
    "\n",
    "        print(\"R$ %.2f %.2f %d R$ %.2f\" % (divida_juros, valor_juros, parcela, divida_juros/parcela))\n",
    "\n",
    "    parcela += 1\n",
    "    "
   ]
  },
  {
   "cell_type": "markdown",
   "metadata": {},
   "source": [
    "25\\. Faça um programa que mostre os n termos da Série a seguir:\n",
    "S = 1/1 + 2/3 + 3/5 + 4/7 + 5/9 + ... + n/m.\n",
    "Imprima no final a soma da série."
   ]
  },
  {
   "cell_type": "code",
   "execution_count": 14,
   "metadata": {},
   "outputs": [
    {
     "name": "stdout",
     "output_type": "stream",
     "text": [
      "Digite um numero para serie S = 1/1 + 2/3 +... + n/m 10\n",
      "S = 1/1 + 2/3 + 3/5 + 4/7 + 5/9 + 6/11 + 7/13 + 8/15 + 9/17 + 10/19\n",
      "S = 6.066627765079777\n"
     ]
    }
   ],
   "source": [
    "n = int(input(\"Digite um numero para serie S = 1/1 + 2/3 +... + n/m \"))\n",
    "x = 1\n",
    "m = 1\n",
    "s = 0\n",
    "\n",
    "print(\"S = \", end='')\n",
    "    \n",
    "while x <= n:\n",
    "    msg = str(x) +\"/\"+ str(m)\n",
    "    \n",
    "    if x != n:\n",
    "        msg += \" + \"\n",
    "        \n",
    "    print(msg,end='')\n",
    "    \n",
    "    s += x/m\n",
    "    x += 1\n",
    "    m += 2\n",
    "    \n",
    "print(\"\\nS =\",s)\n",
    "    \n",
    "    \n",
    "    \n",
    "    "
   ]
  },
  {
   "cell_type": "code",
   "execution_count": null,
   "metadata": {},
   "outputs": [],
   "source": []
  }
 ],
 "metadata": {
  "kernelspec": {
   "display_name": "Python 3",
   "language": "python",
   "name": "python3"
  },
  "language_info": {
   "codemirror_mode": {
    "name": "ipython",
    "version": 3
   },
   "file_extension": ".py",
   "mimetype": "text/x-python",
   "name": "python",
   "nbconvert_exporter": "python",
   "pygments_lexer": "ipython3",
   "version": "3.5.4"
  }
 },
 "nbformat": 4,
 "nbformat_minor": 2
}
