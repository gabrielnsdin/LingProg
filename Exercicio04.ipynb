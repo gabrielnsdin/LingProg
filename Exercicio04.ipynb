{
 "cells": [
  {
   "cell_type": "markdown",
   "metadata": {},
   "source": [
    "1 Menor de dois pares: Escreva uma função que retorne o menor de dois números\n",
    "dados se ambos os números forem pares, mas retorna o maior se um dos dois for\n",
    "ímpar. Exemplo:\n",
    "menor_de_dois_pares(2,4) --> 2\n",
    "menor_de_dois_pares (2,5) --> 5"
   ]
  },
  {
   "cell_type": "code",
   "execution_count": 1,
   "metadata": {},
   "outputs": [
    {
     "name": "stdout",
     "output_type": "stream",
     "text": [
      "2\n",
      "5\n"
     ]
    }
   ],
   "source": [
    "def menor_de_dois_pares(a, b):\n",
    "    if a % 2 == 0 and b % 2 == 0:\n",
    "        par = True\n",
    "    elif a % 2 != 0 or b % 2 != 0:\n",
    "        par = False\n",
    "        \n",
    "    if a > b:\n",
    "        maior = a\n",
    "        menor = b\n",
    "    else:\n",
    "        maior = b\n",
    "        menor = a\n",
    "        \n",
    "    print(menor if par else maior)\n",
    "\n",
    "menor_de_dois_pares(2,4)\n",
    "menor_de_dois_pares (2,5)"
   ]
  },
  {
   "cell_type": "markdown",
   "metadata": {},
   "source": [
    "2 Mesma letra: Escreva uma função que receba uma string com duas palavras e\n",
    "retorne True se ambas palavras começarem com a mesma letra. Exemplo:\n",
    "mesma_letra('Cão covarde') -> True\n",
    "mesma_letra('Vira Lata') -> False"
   ]
  },
  {
   "cell_type": "code",
   "execution_count": 6,
   "metadata": {},
   "outputs": [
    {
     "name": "stdout",
     "output_type": "stream",
     "text": [
      "True\n",
      "False\n"
     ]
    }
   ],
   "source": [
    "def mesma_letra(s):\n",
    "    lista = s.lower().split()\n",
    "    \n",
    "    if lista[0][0] == lista[1][0]:\n",
    "        print(True)\n",
    "    else:\n",
    "        print(False)\n",
    "\n",
    "mesma_letra('Cão covarde')\n",
    "mesma_letra('Vira Lata')"
   ]
  },
  {
   "cell_type": "markdown",
   "metadata": {},
   "source": [
    "3 Mestre Yoda: Dada uma sentença, a função deve retornar a sentença com as\n",
    "palavras na ordem reversa. Exemplo:\n",
    "mestre_yoda('Eu estou em casa') --> 'casa em estou Eu'\n",
    "mestre_yoda('Estamos prontos') --> 'prontos Estamos'"
   ]
  },
  {
   "cell_type": "code",
   "execution_count": 9,
   "metadata": {},
   "outputs": [
    {
     "name": "stdout",
     "output_type": "stream",
     "text": [
      "casa em estou Eu\n",
      "prontos Estamos\n"
     ]
    }
   ],
   "source": [
    "def mestre_yoda(s):\n",
    "    lista = s.split()\n",
    "    r = ' '.join(lista[::-1])\n",
    "    print(r)\n",
    "    \n",
    "mestre_yoda('Eu estou em casa')\n",
    "mestre_yoda('Estamos prontos')"
   ]
  },
  {
   "cell_type": "markdown",
   "metadata": {},
   "source": [
    "4 Tem 33: Faça uma função que retorne True se, dada uma lista de inteiros, houver\n",
    "em alguma posição da lista um 3 do lado de outro 3. Exemplo:\n",
    "tem_33([1,3,3]) --> True\n",
    "tem_33([1,3,1,3]) --> False\n",
    "tem_33([3,1,3]) --> False"
   ]
  },
  {
   "cell_type": "code",
   "execution_count": 13,
   "metadata": {},
   "outputs": [
    {
     "name": "stdout",
     "output_type": "stream",
     "text": [
      "True\n",
      "False\n",
      "False\n"
     ]
    }
   ],
   "source": [
    "import itertools\n",
    "\n",
    "def tem_33(lista):\n",
    "    x = False\n",
    "    \n",
    "    for a, b in zip(lista, lista[1:]):\n",
    "        if a == b and a == 3:\n",
    "            x = True\n",
    "    \n",
    "    print(x)\n",
    "    \n",
    "tem_33([1,3,3])\n",
    "tem_33([1,3,1,3])\n",
    "tem_33([3,1,3])"
   ]
  },
  {
   "cell_type": "markdown",
   "metadata": {},
   "source": [
    "Blackjack: Faça uma função que receba 3 inteiros entre 1 e 11. Se a soma deles for\n",
    "menor que 21, retorne o valor da soma. Se for mair do que 21 e houver um 11,\n",
    "subtraia 10 da soma antes de apresentar o resultado. Se o valor da soma passar de\n",
    "21, retorne ‘ESTOUROU’. Exemplo:\n",
    "blackjack(5,6,7) --> 18\n",
    "blackjack(9,9,9) --> 'ESTOUROU'\n",
    "blackjack(9,9,11) --> 19"
   ]
  },
  {
   "cell_type": "code",
   "execution_count": 17,
   "metadata": {},
   "outputs": [
    {
     "name": "stdout",
     "output_type": "stream",
     "text": [
      "18\n",
      "ESTOUROU\n",
      "19\n"
     ]
    }
   ],
   "source": [
    "def blackjack(*l):\n",
    "    soma = 0\n",
    "    bk = True if 11 in l else False\n",
    "    \n",
    "    for i in l:\n",
    "        soma = soma + i\n",
    "        \n",
    "    if bk:\n",
    "        soma = soma - 10\n",
    "        \n",
    "    print(soma if soma < 21 else 'ESTOUROU')\n",
    "\n",
    "blackjack(5,6,7)\n",
    "blackjack(9,9,9)\n",
    "blackjack(9,9,11)"
   ]
  },
  {
   "cell_type": "markdown",
   "metadata": {},
   "source": [
    "6 Espião: Escreva uma função que receba uma lista de\n",
    "inteiros e retorne True se contém um 007 em ordem, mesmo\n",
    "que não contínuo. Exemplo:\n",
    "espiao([1,2,4,0,0,7,5]) --> True\n",
    "espiao([1,0,2,4,0,5,7]) --> True\n",
    "espiao([1,7,2,4,0,5,0]) --> False"
   ]
  },
  {
   "cell_type": "code",
   "execution_count": 25,
   "metadata": {},
   "outputs": [
    {
     "name": "stdout",
     "output_type": "stream",
     "text": [
      "True\n",
      "True\n",
      "False\n"
     ]
    }
   ],
   "source": [
    "import itertools\n",
    "\n",
    "def espiao(lista):\n",
    "    l = []\n",
    "    \n",
    "    for i in lista:\n",
    "        if i == 0 or i == 7:\n",
    "            l.append(i)\n",
    "            \n",
    "    print(True if [0,0,7] == l else False)\n",
    "\n",
    "espiao([1,2,4,0,0,7,5])\n",
    "espiao([1,0,2,4,0,5,7])\n",
    "espiao([1,7,2,4,0,5,0])"
   ]
  },
  {
   "cell_type": "code",
   "execution_count": null,
   "metadata": {},
   "outputs": [],
   "source": []
  }
 ],
 "metadata": {
  "kernelspec": {
   "display_name": "Python 3",
   "language": "python",
   "name": "python3"
  },
  "language_info": {
   "codemirror_mode": {
    "name": "ipython",
    "version": 3
   },
   "file_extension": ".py",
   "mimetype": "text/x-python",
   "name": "python",
   "nbconvert_exporter": "python",
   "pygments_lexer": "ipython3",
   "version": "3.5.4"
  }
 },
 "nbformat": 4,
 "nbformat_minor": 2
}
