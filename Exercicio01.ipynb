{
 "cells": [
  {
   "cell_type": "markdown",
   "metadata": {},
   "source": [
    "1 Faça um Programa que peça o raio de um círculo, calcule e mostre sua área."
   ]
  },
  {
   "cell_type": "code",
   "execution_count": 10,
   "metadata": {},
   "outputs": [
    {
     "name": "stdout",
     "output_type": "stream",
     "text": [
      "2\n",
      "area 12.566370614359172\n"
     ]
    }
   ],
   "source": [
    "import math\n",
    "\n",
    "r = int(input('raio: '))\n",
    "a = math.pi * r**2\n",
    "\n",
    "print('area',a)"
   ]
  },
  {
   "cell_type": "markdown",
   "metadata": {},
   "source": [
    "2 Faça um Programa que calcule a área de um quadrado, em seguida mostre o dobro\n",
    "desta área para o usuário."
   ]
  },
  {
   "cell_type": "code",
   "execution_count": 11,
   "metadata": {},
   "outputs": [
    {
     "name": "stdout",
     "output_type": "stream",
     "text": [
      "3\n",
      "2x area 18\n"
     ]
    }
   ],
   "source": [
    "l = int(input('lado: '))\n",
    "a = l**2\n",
    "\n",
    "print('2x area',a*2)"
   ]
  },
  {
   "cell_type": "markdown",
   "metadata": {},
   "source": [
    "3 Faça um Programa que pergunte quanto você ganha por hora e o número de horas\n",
    "trabalhadas no mês. Calcule e mostre o total do seu salário no referido mês."
   ]
  },
  {
   "cell_type": "code",
   "execution_count": 14,
   "metadata": {},
   "outputs": [
    {
     "name": "stdout",
     "output_type": "stream",
     "text": [
      "ganha por hora1\n",
      "horas por mes300\n",
      "salario R$ 300.0\n"
     ]
    }
   ],
   "source": [
    "valor = float(input('ganha por hora '))\n",
    "horas = int(input('horas por mes '))\n",
    "\n",
    "print('salario R$', valor * horas)"
   ]
  },
  {
   "cell_type": "markdown",
   "metadata": {},
   "source": [
    "4 Faça um Programa que peça a temperatura em graus Farenheit, transforme e\n",
    "mostre a temperatura em graus Celsius. C = (5 * (F-32) / 9)."
   ]
  },
  {
   "cell_type": "code",
   "execution_count": 16,
   "metadata": {},
   "outputs": [
    {
     "name": "stdout",
     "output_type": "stream",
     "text": [
      "Graus em Farenheit 32\n",
      "Graus em Celsius 0.0\n"
     ]
    }
   ],
   "source": [
    "grausf = float(input('Graus em Farenheit '))\n",
    "grausc = (5 * (grausf-32) / 9)\n",
    "\n",
    "print('Graus em Celsius',grausc)"
   ]
  },
  {
   "cell_type": "markdown",
   "metadata": {},
   "source": [
    "5 Faça um Programa que peça a temperatura em graus Celsius, transforme e mostre\n",
    "em graus Farenheit."
   ]
  },
  {
   "cell_type": "code",
   "execution_count": 17,
   "metadata": {},
   "outputs": [
    {
     "name": "stdout",
     "output_type": "stream",
     "text": [
      "Graus em Celsius 0\n",
      "Graus em Farenheit 32.0\n"
     ]
    }
   ],
   "source": [
    "grausc = float(input('Graus em Celsius '))\n",
    "grausf = 1.8 * grausc + 32\n",
    "\n",
    "print('Graus em Farenheit',grausf)"
   ]
  },
  {
   "cell_type": "markdown",
   "metadata": {},
   "source": [
    "6 Faça um Programa que peça 2 números inteiros e um número real. Calcule e\n",
    "mostre:\n",
    "- o produto do dobro do primeiro com metade do segundo .\n",
    "- a soma do triplo do primeiro com o terceiro.\n",
    "- o terceiro elevado ao cubo."
   ]
  },
  {
   "cell_type": "code",
   "execution_count": 20,
   "metadata": {},
   "outputs": [
    {
     "name": "stdout",
     "output_type": "stream",
     "text": [
      "a 1\n",
      "b 2\n",
      "c 3\n",
      "2.0\n",
      "6.0\n",
      "27.0\n"
     ]
    }
   ],
   "source": [
    "a = int(input('a '))\n",
    "b = int(input('b '))\n",
    "c = float(input('c '))\n",
    "\n",
    "print((a*2) * (b/2))\n",
    "print((a*3) + c)\n",
    "print(c ** 3)"
   ]
  },
  {
   "cell_type": "markdown",
   "metadata": {},
   "source": [
    "7 João Papo-de-Pescador, homem de bem, comprou um microcomputador para\n",
    "controlar o rendimento diário de seu trabalho. Toda vez que ele traz um peso de\n",
    "peixes maior que o estabelecido pelo regulamento de pesca do estado de São Paulo\n",
    "(50 quilos) deve pagar uma multa de R$ 4,00 por quilo excedente. João precisa que\n",
    "você faça um programa que leia a variável peso (peso de peixes) e verifique se há\n",
    "excesso. Se houver, gravar na variável excesso e na variável multa o valor da multa\n",
    "que João deverá pagar. Caso contrário mostrar tais variáveis com o conteúdo ZERO."
   ]
  },
  {
   "cell_type": "code",
   "execution_count": 21,
   "metadata": {},
   "outputs": [
    {
     "name": "stdout",
     "output_type": "stream",
     "text": [
      "peso 51\n",
      "excesso 1 kg\n",
      "R$ 4.0\n"
     ]
    }
   ],
   "source": [
    "peso = float(input('peso '))\n",
    "excesso = 0\n",
    "multa = 0\n",
    "\n",
    "if peso > 50.0:\n",
    "    excesso = peso - 50\n",
    "    multa = excesso * 4.0\n",
    "    \n",
    "print('excesso %d kg' %(excesso))\n",
    "print('multa R$',multa)"
   ]
  },
  {
   "cell_type": "markdown",
   "metadata": {},
   "source": [
    "8 Faça um Programa que pergunte quanto você ganha por hora e o número de horas\n",
    "trabalhadas no mês. Calcule e mostre o total do seu salário no referido mês,\n",
    "sabendo-se que são descontados 11% para o Imposto de Renda, 8% para o INSS e 5%\n",
    "para o sindicato, faça um programa que nos dê:\n",
    "- salário bruto.\n",
    "- quanto pagou ao INSS.\n",
    "- quanto pagou ao sindicato.\n",
    "- o salário líquido.\n",
    "- calcule os descontos e o salário líquido, conforme a tabela abaixo:\n",
    "+ Salário Bruto : R$\n",
    "- IR (11%) : R$\n",
    "- INSS (8%) : R$\n",
    "- Sindicato ( 5%) : R$\n",
    "= Salário Liquido : R$\n",
    "Obs.: Salário Bruto - Descontos = Salário Líquido."
   ]
  },
  {
   "cell_type": "code",
   "execution_count": 2,
   "metadata": {},
   "outputs": [
    {
     "name": "stdout",
     "output_type": "stream",
     "text": [
      "ganha por hora 20\n",
      "horas por mes 120\n",
      "salario bruto R$ 2400.0\n",
      "Imposto R$ 264.0\n",
      "INSS R$ 192.0\n",
      "Sindicato R$ 120.0\n",
      "Salario liquido R$ 1824.0\n"
     ]
    }
   ],
   "source": [
    "valor = float(input('ganha por hora '))\n",
    "horas = int(input('horas por mes '))\n",
    "salario = valor * horas\n",
    "imposto = salario * 0.11\n",
    "inns = salario * 0.08\n",
    "sindicato = salario * 0.05\n",
    "salariol = salario - imposto - inns - sindicato\n",
    "\n",
    "print('salario bruto R$', salario)\n",
    "print('Imposto R$', imposto)\n",
    "print('INSS R$', inns)\n",
    "print('Sindicato R$', sindicato)\n",
    "print('Salario liquido R$', salariol)\n"
   ]
  },
  {
   "cell_type": "markdown",
   "metadata": {},
   "source": [
    "9 Faça um programa que leia 2 strings e informe o conteúdo delas seguido do seu\n",
    "comprimento. Informe também se as duas strings possuem o mesmo comprimento e\n",
    "são iguais ou diferentes no conteúdo.\n",
    "Exemplo:\n",
    "String 1: Brasil Hexa 2018\n",
    "String 2: Brasil! Hexa 2018!\n",
    "Tamanho de \"Brasil Hexa 2018\": 16 caracteres\n",
    "Tamanho de \"Brasil! Hexa 2018!\": 18 caracteres\n",
    "As duas strings são de tamanhos diferentes.\n",
    "As duas strings possuem conteúdo diferente."
   ]
  },
  {
   "cell_type": "code",
   "execution_count": 5,
   "metadata": {},
   "outputs": [
    {
     "name": "stdout",
     "output_type": "stream",
     "text": [
      "string 1 Brasil Hexa 2018\n",
      "string 2 Brasil! Hexa 2018!\n",
      "Tamanho de Brasil Hexa 2018 : 16\n",
      "Tamanho de Brasil! Hexa 2018! : 18\n",
      "As duas strings são de tamanhos diferentes\n",
      "As duas strings possuem conteúdo diferente\n"
     ]
    }
   ],
   "source": [
    "s1 = input('string 1 ')\n",
    "s2 = input('string 2 ')\n",
    "\n",
    "print('Tamanho de',s1,':',len(s1))\n",
    "print('Tamanho de',s2,':',len(s2))\n",
    "print('As duas strings são de tamanhos', 'diferentes' if len(s1) != len(s2) else 'iguais')\n",
    "print('As duas strings possuem conteúdo', 'diferente' if s1 != s2 else 'igual')"
   ]
  },
  {
   "cell_type": "markdown",
   "metadata": {},
   "source": [
    "10 Faça um programa que permita ao usuário digitar o seu nome e em seguida\n",
    "mostre o nome do usuário de trás para frente utilizando somente letras maiúsculas.\n",
    "Dica: lembre−se que ao informar o nome o usuário pode digitar letras maiúsculas ou\n",
    "minúsculas. Observação: não use loops."
   ]
  },
  {
   "cell_type": "code",
   "execution_count": 7,
   "metadata": {},
   "outputs": [
    {
     "name": "stdout",
     "output_type": "stream",
     "text": [
      "nome abc\n",
      "CBA\n"
     ]
    }
   ],
   "source": [
    "nome = input('nome ')\n",
    "\n",
    "print(nome.upper()[::-1])"
   ]
  },
  {
   "cell_type": "markdown",
   "metadata": {},
   "source": [
    "11 Faça um programa que solicite a data de nascimento (dd/mm/aaaa) do usuário e\n",
    "imprima a data com o nome do mês por extenso.\n",
    "Data de Nascimento: 29/10/1973\n",
    "Você nasceu em 29 de Outubro de 1973.\n",
    "Obs.: Não use desvio condicional nem loops."
   ]
  },
  {
   "cell_type": "code",
   "execution_count": 16,
   "metadata": {},
   "outputs": [
    {
     "name": "stdout",
     "output_type": "stream",
     "text": [
      "data 29/10/1973\n",
      "29 de Outubro de 1973\n"
     ]
    }
   ],
   "source": [
    "meses = {1:'Janeiro',\n",
    "         2:'Fevereiro',\n",
    "         3:'Março',\n",
    "         4:'Abril',\n",
    "         5:'Maio',\n",
    "         6:'Junho',\n",
    "         7:'Julho',\n",
    "         8:'Agosto',\n",
    "         9:'Setembro',\n",
    "         10:'Outubro',\n",
    "         11:'Novembro',\n",
    "         12:'Decembro',}\n",
    "\n",
    "data = input('data ')\n",
    "mes = int(data[3:5])\n",
    "datae = data[0:2] + ' de ' + meses[mes] + ' de ' + data[6:10]\n",
    "print(datae)"
   ]
  },
  {
   "cell_type": "markdown",
   "metadata": {},
   "source": [
    "12 Leet é uma forma de se escrever o alfabeto latino usando outros símbolos em\n",
    "lugar das letras, como números por exemplo. A própria palavra leet admite muitas\n",
    "variações, como l33t ou 1337. O uso do leet reflete uma subcultura relacionada ao\n",
    "mundo dos jogos de computador e internet, sendo muito usada para confundir os\n",
    "iniciantes e afirmar-se como parte de um grupo. Pesquise sobre as principais formas\n",
    "de traduzir as letras. Depois, faça um programa que peça uma texto e transforme-o\n",
    "para a grafia leet speak."
   ]
  },
  {
   "cell_type": "code",
   "execution_count": 17,
   "metadata": {},
   "outputs": [
    {
     "name": "stdout",
     "output_type": "stream",
     "text": [
      "good: k1 and k2 refer to the same instance\n"
     ]
    }
   ],
   "source": [
    "\n",
    "4, /\\, @, /-\\, ^, ä, ª, aye\n",
    "dict = {'4':'a', '/\\':'a'}\n",
    "\n",
    "if dict['k1'] is dict['k2']:\n",
    "    print(\"good: k1 and k2 refer to the same instance\")\n",
    "else:\n",
    "    print(\"bad: k1 and k2 refer to different instances\")"
   ]
  },
  {
   "cell_type": "code",
   "execution_count": null,
   "metadata": {},
   "outputs": [],
   "source": []
  }
 ],
 "metadata": {
  "kernelspec": {
   "display_name": "Python 3",
   "language": "python",
   "name": "python3"
  },
  "language_info": {
   "codemirror_mode": {
    "name": "ipython",
    "version": 3
   },
   "file_extension": ".py",
   "mimetype": "text/x-python",
   "name": "python",
   "nbconvert_exporter": "python",
   "pygments_lexer": "ipython3",
   "version": "3.5.4"
  }
 },
 "nbformat": 4,
 "nbformat_minor": 2
}
