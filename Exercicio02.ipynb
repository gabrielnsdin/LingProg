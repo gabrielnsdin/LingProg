{
 "cells": [
  {
   "cell_type": "markdown",
   "metadata": {},
   "source": [
    "1 Crie um programa que recebe uma lista de números e\n",
    "- retorne o maior elemento\n",
    "- retorne a soma dos elementos\n",
    "- retorne o número de ocorrências do primeiro elemento da lista\n",
    "- retorne a média dos elementos\n",
    "- retorne o valor mais próximo da média dos elementos\n",
    "- retorne a soma dos elementos com valor negativo\n",
    "- retorne a quantidade de vizinhos iguais"
   ]
  },
  {
   "cell_type": "code",
   "execution_count": 58,
   "metadata": {},
   "outputs": [
    {
     "name": "stdout",
     "output_type": "stream",
     "text": [
      "91\n",
      "132\n",
      "2\n",
      "13.2\n",
      "18\n",
      "0\n",
      "1\n"
     ]
    }
   ],
   "source": [
    "l = [1,2,4,5,18,91,1,4,3,3]\n",
    "\n",
    "def diff(l,v):\n",
    "    return abs(v - int(sum(l)/len(l)))\n",
    "\n",
    "d = diff(l,0)\n",
    "p = l[0]\n",
    "\n",
    "s = 0\n",
    "a = l[len(l) - 1]\n",
    "c = 0\n",
    "\n",
    "for i in l:\n",
    "    if diff(l,i) < d:\n",
    "        d = diff(l,i)\n",
    "        p = i\n",
    "        \n",
    "    if i < 0:\n",
    "        s = s + i\n",
    "    \n",
    "    if i == a:\n",
    "        c = c + 1\n",
    "\n",
    "    a = i\n",
    "\n",
    "print(max(l))\n",
    "print(sum(l))\n",
    "print(l.count(l[0]))\n",
    "print(sum(l)/len(l))\n",
    "print(p)\n",
    "print(s)\n",
    "print(c)"
   ]
  },
  {
   "cell_type": "markdown",
   "metadata": {},
   "source": [
    "2 Faça um programa que receba duas listas e retorne True se são iguais ou False caso\n",
    "contrario.\n",
    "Duas listas são iguais se possuem os mesmos valores e na mesma ordem."
   ]
  },
  {
   "cell_type": "code",
   "execution_count": 62,
   "metadata": {},
   "outputs": [
    {
     "name": "stdout",
     "output_type": "stream",
     "text": [
      "False\n"
     ]
    }
   ],
   "source": [
    "l = [1,2,3]\n",
    "k = [2,3,1]\n",
    "\n",
    "if l == k:\n",
    "    print(True)\n",
    "else:\n",
    "    print(False)"
   ]
  },
  {
   "cell_type": "markdown",
   "metadata": {},
   "source": [
    "3 Faça um programa que receba duas listas e retorne True se têm os mesmos\n",
    "elementos ou False caso contrário\n",
    "Duas listas possuem os mesmos elementos quando são compostas pelos mesmos\n",
    "valores, mas não obrigatoriamente na mesma ordem."
   ]
  },
  {
   "cell_type": "code",
   "execution_count": 66,
   "metadata": {},
   "outputs": [
    {
     "name": "stdout",
     "output_type": "stream",
     "text": [
      "True\n"
     ]
    }
   ],
   "source": [
    "l = [1,2,3]\n",
    "k = [2,3,1]\n",
    "\n",
    "if l.sort() == k.sort():\n",
    "    print(True)\n",
    "else:\n",
    "    print(False)"
   ]
  },
  {
   "cell_type": "markdown",
   "metadata": {},
   "source": [
    "4 Faça um programa que percorre uma lista com o seguinte formato: [['Brasil',\n",
    "'Italia', [10, 9]], ['Brasil', 'Espanha', [5, 7]], ['Italia', 'Espanha', [7,8]]]. Essa lista indica o\n",
    "número de faltas que cada time fez em cada jogo. Na lista acima, no jogo entre Brasil\n",
    "e Itália, o Brasil fez 10 faltas e a Itália fez 9.\n",
    "O programa deve imprimir na tela:\n",
    "- o total de faltas do campeonato\n",
    "- o time que fez mais faltas\n",
    "- o time que fez menos faltas"
   ]
  },
  {
   "cell_type": "code",
   "execution_count": 22,
   "metadata": {},
   "outputs": [
    {
     "name": "stdout",
     "output_type": "stream",
     "text": [
      "Total 46\n",
      "Mais Faltas Italia\n",
      "Menos Faltas Espanha\n"
     ]
    }
   ],
   "source": [
    "t = [['Brasil', 'Italia', [10, 9]], ['Brasil', 'Espanha', [5, 7]], ['Italia', 'Espanha', [7,8]]]\n",
    "d = {}\n",
    "n = []\n",
    "o = []\n",
    "\n",
    "for i in t:\n",
    "    n = []\n",
    "    o = []\n",
    "    for j in i:\n",
    "        if type(j) == str:\n",
    "            n.append(j)\n",
    "            \n",
    "        if type(j) == list:\n",
    "            for k in j:\n",
    "                o.append(k)     \n",
    "    \n",
    "    for p in n:\n",
    "        if p not in d:\n",
    "            d[p] = o[n.index(p)]\n",
    "        else:\n",
    "            d[p] += o[n.index(p)]\n",
    "            \n",
    "print('Total',sum(d.values()))\n",
    "print('Mais Faltas',max(d, key=d.get))\n",
    "print('Menos Faltas',min(d, key=d.get))"
   ]
  },
  {
   "cell_type": "markdown",
   "metadata": {},
   "source": [
    "5 Escreva um programa que conta a quantidade de vogais em uma string e armazena\n",
    "tal quantidade em um dicionário, onde a chave é a vogal considerada."
   ]
  },
  {
   "cell_type": "code",
   "execution_count": 6,
   "metadata": {},
   "outputs": [
    {
     "name": "stdout",
     "output_type": "stream",
     "text": [
      "1\n",
      "2\n",
      "1\n",
      "0\n",
      "0\n"
     ]
    }
   ],
   "source": [
    "from collections import Counter\n",
    "\n",
    "s = \"avbeefglin\"\n",
    "\n",
    "c = Counter(s)\n",
    "\n",
    "print(c['a'])\n",
    "print(c['e'])\n",
    "print(c['i'])\n",
    "print(c['o'])\n",
    "print(c['u'])"
   ]
  },
  {
   "cell_type": "markdown",
   "metadata": {},
   "source": [
    "6 Escreva um programa que lê̂ duas notas de vários alunos e armazena tais notas em\n",
    "um dicionário, onde a chave é o nome do aluno. A entrada de dados deve terminar\n",
    "quando for lida uma string vazia como nome. Escreva uma função que retorna a\n",
    "média do aluno, dado seu nome."
   ]
  },
  {
   "cell_type": "code",
   "execution_count": 9,
   "metadata": {},
   "outputs": [
    {
     "name": "stdout",
     "output_type": "stream",
     "text": [
      "digite o nomea\n",
      "digite a nota1\n",
      "digite o nomea\n",
      "digite a nota2\n",
      "digite o nomea\n",
      "digite a nota3\n",
      "digite o nome\n",
      "{'a': [1, 2, 3]}\n"
     ]
    }
   ],
   "source": [
    "n = ''\n",
    "s = '.'\n",
    "l = []\n",
    "d = {}\n",
    "\n",
    "while s != '':\n",
    "    s = input('digite o nome')\n",
    "    if s != '':\n",
    "        l.append(int(input('digite a nota')))\n",
    "        n = s\n",
    "        d[n] = l\n",
    "        \n",
    "print(d)"
   ]
  },
  {
   "cell_type": "markdown",
   "metadata": {},
   "source": [
    "7 Uma pista de Kart permite 10 voltas para cada um de 6 corredores. Escreva um\n",
    "programa que leia todos os tempos em segundos e os guarde em um dicionário,\n",
    "onde a chave é o nome do corredor. Ao final diga de quem foi a melhor volta da\n",
    "prova e em que volta; e ainda a classificação final em ordem (1o o campeão). O\n",
    "campeão é o que tem a menor média de tempos."
   ]
  },
  {
   "cell_type": "code",
   "execution_count": 37,
   "metadata": {},
   "outputs": [
    {
     "name": "stdout",
     "output_type": "stream",
     "text": [
      "[('f', 906), ('e', 917), ('a', 936), ('c', 996), ('b', 1003), ('d', 1025)]\n"
     ]
    }
   ],
   "source": [
    "import operator\n",
    "\n",
    "\n",
    "l = []\n",
    "d = {}\n",
    "n = {}\n",
    "\n",
    "s = ['a','b','c','d','e','f']\n",
    "l = [[100,105,92,103,108,101,120,115,92,],\n",
    "     [95,105,92,105,108,181,120,105,92,],\n",
    "     [100,105,162,103,108,101,120,105,92,],\n",
    "     [105,122,92,155,108,112,134,105,92,],\n",
    "     [100,105,92,103,108,101,111,105,92,],\n",
    "     [90,105,92,103,108,101,110,105,92,]]\n",
    "\n",
    "for i in s:\n",
    "    d[i] = l[s.index(i)]\n",
    "\n",
    "for k, v in d.items():\n",
    "    n[k] = sum(d[k])\n",
    "\n",
    "    \n",
    "sn = sorted(n.items(), key=operator.itemgetter(1))\n",
    "print(sn)"
   ]
  },
  {
   "cell_type": "markdown",
   "metadata": {},
   "source": [
    "8 Escreva um programa para armazenar uma agenda de telefones em um dicionário.\n",
    "Cada pessoa pode ter um ou mais telefones e a chave do dicionário é o nome da\n",
    "pessoa. Seu programa deve ter as seguintes funções:\n",
    "- incluirNovoNome – essa função acrescenta um novo nome na agenda, com um ou\n",
    "mais telefones. Ela deve receber como argumentos o nome e os telefones.\n",
    "- incluirTelefone – essa função acrescenta um telefone em um nome existente na\n",
    "agenda. Caso o nome não exista na agenda, você̂ deve perguntar se a pessoa deseja\n",
    "inclui-lo. Caso a resposta seja afirmativa, use a função anterior para incluir o novo\n",
    "nome.\n",
    "- excluirTelefone – essa função exclui um telefone de uma pessoa que já está na\n",
    "agenda. Se a pessoa tiver apenas um telefone, ela deve ser excluída da agenda.\n",
    "- excluirNome – essa função exclui uma pessoa da agenda.\n",
    "- consultarTelefone – essa função retorna os telefones de uma pessoa na agenda.\n"
   ]
  },
  {
   "cell_type": "code",
   "execution_count": 26,
   "metadata": {},
   "outputs": [
    {
     "name": "stdout",
     "output_type": "stream",
     "text": [
      "{}\n",
      "{'b': [5678], 'a': [1234]}\n",
      "{'b': [5678, 8765], 'a': [1234, 4321]}\n",
      "{'b': [8765], 'a': [4321]}\n",
      "{}\n"
     ]
    }
   ],
   "source": [
    "d = {}\n",
    "\n",
    "def incluir_novo_nome(nome, telefone):\n",
    "    d[nome] = []\n",
    "    d[nome].append(telefone)\n",
    "        \n",
    "def incluir_telefone(nome, telefone):\n",
    "    d[nome].append(telefone)\n",
    "    \n",
    "def excluir_telefone(nome, telefone):\n",
    "    index = d[nome].index(telefone)\n",
    "    d[nome].pop(index)\n",
    "    \n",
    "def excluir_nome(nome):\n",
    "    d.pop(nome, None)\n",
    "    \n",
    "print(d)    \n",
    "\n",
    "incluir_novo_nome('a', 1234)\n",
    "incluir_novo_nome('b', 5678)\n",
    "\n",
    "print(d)  \n",
    "\n",
    "incluir_telefone('a', 4321)\n",
    "incluir_telefone('b', 8765)\n",
    "\n",
    "print(d)  \n",
    "\n",
    "excluir_telefone('a', 1234)\n",
    "excluir_telefone('b', 5678)\n",
    "\n",
    "print(d)  \n",
    "\n",
    "excluir_nome('a')\n",
    "excluir_nome('b')\n",
    "\n",
    "print(d)"
   ]
  },
  {
   "cell_type": "markdown",
   "metadata": {},
   "source": [
    "9 Faça um programa que leia um arquivo texto contendo uma lista de endereços IP e\n",
    "gere um outro arquivo, contendo um relatório dos endereços IP válidos e inválidos.\n",
    "O arquivo de entrada possui o seguinte formato:\n",
    "200.135.80.9\n",
    "192.168.1.1\n",
    "8.35.67.74\n",
    "257.32.4.5\n",
    "85.345.1.2\n",
    "1.2.3.4\n",
    "9.8.234.5\n",
    "192.168.0.256\n",
    "\n",
    "## 9.8.234.5  deve ser valido."
   ]
  },
  {
   "cell_type": "code",
   "execution_count": 58,
   "metadata": {},
   "outputs": [
    {
     "data": {
      "text/plain": [
       "'[Endereços válidos:]\\n200.135.80.9\\n192.168.1.1\\n8.35.67.74\\n1.2.3.4\\n9.8.234.5\\n\\n[Endereços inválidos:]\\n257.32.4.5\\n85.345.1.2\\n192.168.0.256\\n'"
      ]
     },
     "execution_count": 58,
     "metadata": {},
     "output_type": "execute_result"
    }
   ],
   "source": [
    "file = open('file.txt', 'r')\n",
    "f = file.read()\n",
    "file.close()\n",
    "fs = f.split('\\n')\n",
    "fv = []\n",
    "fi = []\n",
    "vl = []\n",
    "\n",
    "\n",
    "for i in fs:\n",
    "    for j in i.split('.'):\n",
    "        if int(j) > 255 or int(j) < 0:\n",
    "            vl.append(False)\n",
    "        if int(j) <= 255 and int(j) >= 0:\n",
    "            vl.append(True)\n",
    "    \n",
    "    if False in vl:\n",
    "        fi.append(i)\n",
    "    else:\n",
    "        fv.append(i)\n",
    "        \n",
    "    vl = []\n",
    "\n",
    "ip = open('ip.txt', 'w+', encoding='utf8')\n",
    "ip.write('[Endereços válidos:]\\n')\n",
    "for i in fv:\n",
    "    ip.write(i+'\\n')\n",
    "\n",
    "\n",
    "ip.write('\\n[Endereços inválidos:]\\n')\n",
    "for i in fi:\n",
    "    ip.write(i+'\\n')\n",
    "\n",
    "ip.seek(0)\n",
    "ip.read()\n",
    "ip.close()"
   ]
  },
  {
   "cell_type": "markdown",
   "metadata": {},
   "source": [
    "10 A ACME Inc., uma empresa de 500 funcionários, está tendo problemas de espaço\n",
    "em disco no seu servidor de arquivos. Para tentar resolver este problema, o\n",
    "Administrador de Rede precisa saber qual o espaço ocupado pelos usuários, e\n",
    "identificar os usuários com maior espaço ocupado. Através de um programa, baixado\n",
    "da Internet, ele conseguiu gerar o seguinte arquivo, chamado \"usuarios.txt\":\n",
    "alexandre 456123789\n",
    "anderson 1245698456\n",
    "antonio 123456456\n",
    "carlos 91257581\n",
    "cesar 987458\n",
    "rosemary 789456125\n",
    "Neste arquivo, o nome do usuário possui 15 caracteres. A partir deste arquivo, você\n",
    "deve criar um programa que gere um relatório, chamado \"relatório.txt\", no seguinte\n",
    "formato:\n",
    "ACME Inc. Uso do espaço em disco pelos usuários\n",
    "--------------------------------------------------------------\n",
    "----------\n",
    "Nr. Usuário Espaço utilizado % do uso\n",
    "1 alexandre 434,99 MB 16,85%\n",
    "2 anderson 1187,99 MB 46,02%\n",
    "3 antonio 117,73 MB 4,56%\n",
    "4 carlos 87,03 MB 3,37%\n",
    "5 cesar 0,94 MB 0,04%\n",
    "6 rosemary 752,88 MB 29,16%\n",
    "Espaço total ocupado: 2581,57 MB\n",
    "Espaço médio ocupado: 430,26 MB\n",
    "O arquivo de entrada deve ser lido uma única vez, e os dados armazenados em\n",
    "memória, caso sejam necessários, de forma a agilizar a execução do programa. A\n",
    "conversão da espaço ocupado em disco, de bytes para megabytes deverá ser feita\n",
    "através de uma função separada, que será chamada pelo programa principal. O\n",
    "cálculo do percentual de uso também deverá ser feito através de uma função, que\n",
    "será chamada pelo programa principal."
   ]
  },
  {
   "cell_type": "code",
   "execution_count": 118,
   "metadata": {},
   "outputs": [],
   "source": [
    "import collections\n",
    "\n",
    "def byte_to_mega(byte):\n",
    "    mega = (byte / 1024)/1024\n",
    "    return mega\n",
    "\n",
    "def format_float_2f(value):\n",
    "    return float(\"%.2f\" % value)\n",
    "\n",
    "def porcentagem_dict(dictp):\n",
    "    d = {}\n",
    "    \n",
    "    t = total_dict_mega(dictp)\n",
    "    tp = t / 100\n",
    "    \n",
    "    for i in dictp:\n",
    "        v = byte_to_mega(dictp[i])\n",
    "        d[i] = format_float_2f(v/tp)\n",
    "    return d\n",
    "\n",
    "def total_dict_mega(dictb):\n",
    "    total_byte = sum(dictb.values())\n",
    "    total_mega = byte_to_mega(total_byte)\n",
    "    return format_float_2f(total_mega)\n",
    "\n",
    "def dict_mega(dictb):\n",
    "    d = {}\n",
    "    \n",
    "    for i in dictb:\n",
    "        d[i] = format_float_2f(byte_to_mega(dictb[i]))\n",
    "    \n",
    "    return d\n",
    "\n",
    "file = open('usuarios.txt', 'r')\n",
    "f = file.read()\n",
    "file.close()\n",
    "fs = f.split(\"\\n\")\n",
    "fss = {}\n",
    "fssp = {}\n",
    "\n",
    "for i in fs:\n",
    "    fss[i.split(\" \")[0]] = int(i.split(\" \")[1])\n",
    "\n",
    "\n",
    "t = total_dict_mega(fss)\n",
    "fssp = porcentagem_dict(fss)\n",
    "fss = dict_mega(fss)\n",
    "avg = format_float_2f(sum(fss.values())/len(fss))\n",
    "\n",
    "relatorio = open('relatório.txt', 'w+', encoding='utf8')\n",
    "relatorio.write(\"ACME Inc. Uso do espaço em disco pelos usuários --------------------------------------------------------------\\n\")\n",
    "relatorio.write(\"Nr.   Usuario        Espaço Utilizado    % Uso\\n\")\n",
    "\n",
    "y = 1\n",
    "for k, i in sorted(fss.items()):\n",
    "    relatorio.write(str(y))\n",
    "    relatorio.write(\"     \"+k)\n",
    "    relatorio.write(\"    %.2f MB\"% (i))\n",
    "    relatorio.write(\"   \"+str(fssp[k])+\"%\\n\")\n",
    "    \n",
    "    y = y + 1\n",
    "\n",
    "relatorio.write(\"\\nEspaço total ocupado: \"+str(t))\n",
    "relatorio.write(\"\\nEspaço médio ocupado: \"+str(avg))\n",
    "\n",
    "ip.close()"
   ]
  },
  {
   "cell_type": "code",
   "execution_count": null,
   "metadata": {},
   "outputs": [],
   "source": []
  },
  {
   "cell_type": "code",
   "execution_count": null,
   "metadata": {},
   "outputs": [],
   "source": []
  }
 ],
 "metadata": {
  "kernelspec": {
   "display_name": "Python 3",
   "language": "python",
   "name": "python3"
  },
  "language_info": {
   "codemirror_mode": {
    "name": "ipython",
    "version": 3
   },
   "file_extension": ".py",
   "mimetype": "text/x-python",
   "name": "python",
   "nbconvert_exporter": "python",
   "pygments_lexer": "ipython3",
   "version": "3.5.4"
  }
 },
 "nbformat": 4,
 "nbformat_minor": 2
}
