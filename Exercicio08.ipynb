{
 "cells": [
  {
   "cell_type": "code",
   "execution_count": 26,
   "metadata": {},
   "outputs": [],
   "source": [
    "def maybe(func, val):\n",
    "    try:\n",
    "        return func(val)\n",
    "    except:\n",
    "        return 'Nothing'\n",
    "    \n",
    "def maybe_2(func, val1, val2):\n",
    "    try:\n",
    "        return func(val1, val2)\n",
    "    except:\n",
    "        return 'Nothing'"
   ]
  },
  {
   "cell_type": "markdown",
   "metadata": {},
   "source": [
    "1 Defina a função soma_nat que recebe como argumento um número natural  n\n",
    "  e devolve a soma de todos os números naturais até  n.\n",
    "\n",
    "Ex: soma_nat(5) = 15"
   ]
  },
  {
   "cell_type": "code",
   "execution_count": 27,
   "metadata": {},
   "outputs": [
    {
     "name": "stdout",
     "output_type": "stream",
     "text": [
      "15\n",
      "Nothing\n"
     ]
    }
   ],
   "source": [
    "soma_nat = lambda n: 0 if n == 0 else n + soma_nat(n-1)\n",
    "print(maybe(soma_nat, 5))\n",
    "print(maybe(soma_nat, '5'))"
   ]
  },
  {
   "cell_type": "markdown",
   "metadata": {},
   "source": [
    "2 Defina a função div que recebe como argumentos dois números naturais  m\n",
    "  e  n  e devolve o resultado da divisão inteira de  m  por  n. Neste exercício você não pode recorrer às operações aritméticas de multiplicação, divisão e resto da divisão inteira.\n",
    "\n",
    "Ex: div(7,2) = 3"
   ]
  },
  {
   "cell_type": "code",
   "execution_count": 28,
   "metadata": {},
   "outputs": [
    {
     "name": "stdout",
     "output_type": "stream",
     "text": [
      "3\n",
      "Nothing\n"
     ]
    }
   ],
   "source": [
    "div = lambda m,n: 0 if m < n else div(m-n,n)+1\n",
    "print(maybe_2(div, 7,2))\n",
    "print(maybe_2(div, 7,'2'))"
   ]
  },
  {
   "cell_type": "markdown",
   "metadata": {},
   "source": [
    "4 Defina a função prod_lista que recebe como argumento uma lista de inteiros e devolve o produto dos seus elementos.\n",
    "\n",
    "Ex: prod_lista([1,2,3,4,5,6]) = 720"
   ]
  },
  {
   "cell_type": "code",
   "execution_count": 29,
   "metadata": {},
   "outputs": [
    {
     "name": "stdout",
     "output_type": "stream",
     "text": [
      "720\n",
      "Nothing\n"
     ]
    }
   ],
   "source": [
    "prod_lista = lambda l: l[0] if len(l) == 1 else l[0] * prod_lista(l[1:])\n",
    "print(maybe(prod_lista, [1,2,3,4,5,6]))\n",
    "print(maybe(prod_lista, '1,2,3,4,5,6'))"
   ]
  },
  {
   "cell_type": "markdown",
   "metadata": {},
   "source": [
    "5 Defina a função contem_parQ que recebe como argumento uma lista de números inteiros  w e devolve True se w contém um número par e False em caso contrário.\n",
    "Ex: contem_parQ([2,3,1,2,3,4]) = True\n",
    "Ex: contem_parQ([1,3,5,7]) = False"
   ]
  },
  {
   "cell_type": "code",
   "execution_count": 32,
   "metadata": {},
   "outputs": [
    {
     "name": "stdout",
     "output_type": "stream",
     "text": [
      "True\n",
      "False\n",
      "Nothing\n"
     ]
    }
   ],
   "source": [
    "contem_parQ = lambda l: l[0] % 2 == 0 if len(l) == 1 else contem_parQ(l[:1]) or contem_parQ(l[1:])\n",
    "print(maybe(contem_parQ, [2,3,1,2,3,4]))\n",
    "print(maybe(contem_parQ, [1,3,5,7]))\n",
    "print(maybe(contem_parQ, '2,3,1,2,3,4'))"
   ]
  },
  {
   "cell_type": "markdown",
   "metadata": {},
   "source": [
    "\n",
    "6 Defina a função todos_imparesQ que recebe como argumento uma lista de números inteiros w e devolve True se  w contém apenas números ímpares e False em caso contrário.\n",
    "\n",
    "Ex: todos_imparesQ([1,3,5,7]) = True\n",
    "Ex: todos_imparesQ([]) = True\n",
    "Ex: todos_imparesQ([1,2,3,4,5]) = False"
   ]
  },
  {
   "cell_type": "code",
   "execution_count": 33,
   "metadata": {},
   "outputs": [
    {
     "name": "stdout",
     "output_type": "stream",
     "text": [
      "True\n",
      "True\n",
      "False\n",
      "Nothing\n"
     ]
    }
   ],
   "source": [
    "todos_imparesQ = lambda l: True if len(l) == 0 else (l[0] % 2 != 0 if len(l) == 1 else todos_imparesQ(l[:1]) and todos_imparesQ(l[1:]))\n",
    "print(maybe(todos_imparesQ, [1,3,5,7]))\n",
    "print(maybe(todos_imparesQ, []))\n",
    "print(maybe(todos_imparesQ, [1,2,3,4,5]))\n",
    "print(maybe(todos_imparesQ, '1,3,5,7'))"
   ]
  },
  {
   "cell_type": "code",
   "execution_count": null,
   "metadata": {},
   "outputs": [],
   "source": []
  }
 ],
 "metadata": {
  "kernelspec": {
   "display_name": "Python 3",
   "language": "python",
   "name": "python3"
  },
  "language_info": {
   "codemirror_mode": {
    "name": "ipython",
    "version": 3
   },
   "file_extension": ".py",
   "mimetype": "text/x-python",
   "name": "python",
   "nbconvert_exporter": "python",
   "pygments_lexer": "ipython3",
   "version": "3.5.4"
  }
 },
 "nbformat": 4,
 "nbformat_minor": 2
}
