{
 "cells": [
  {
   "cell_type": "markdown",
   "metadata": {},
   "source": [
    "1 Implemente um gerador infinito de números primos.\n",
    "Ex:\n",
    "i = 0\n",
    "while i < 10:\n",
    "print(gera_primos())\n",
    "i += 1\n",
    "Este código imprime os 10 primeiros números primos, isto é: 1, 2, 3, 5, 7, 11, 13, 17,\n",
    "19, 23."
   ]
  },
  {
   "cell_type": "code",
   "execution_count": null,
   "metadata": {},
   "outputs": [],
   "source": [
    "\n",
    "\n",
    "def primo_yield():\n",
    "    num = 2\n",
    "    \n",
    "    while True:\n",
    "        if(e_primo_yield(num)):\n",
    "            yield num\n",
    "        num+=1\n",
    "    \n",
    "    \n",
    "def e_primo_yield(numero):\n",
    "    divisores = 0\n",
    "    for divisor in range(1, numero):\n",
    "        if numero % divisor == 0:\n",
    "            divisores = divisores + 1\n",
    "            if divisores > 1:\n",
    "                break\n",
    "    if(divisores > 1):\n",
    "        return False\n",
    "    return True\n",
    "\n",
    "p = primo_yield()\n",
    "k = 0\n",
    "while k < 10:\n",
    "    print(next(p))\n",
    "    k+=1\n"
   ]
  },
  {
   "cell_type": "markdown",
   "metadata": {},
   "source": [
    "2 Implementar um gerador que leia um arquivo e retorne uma lista de tuplas com os\n",
    "dados (o separador de campo do arquivo é virgula), eliminando as linhas vazias. Caso\n",
    "ocorra algum problema, imprima uma mensagem de aviso e encerre o programa.\n",
    "Use o exemplo abaixo como arquivo de entrada:\n",
    "Ex:\n",
    "Entrada:\n",
    "teste.txt\n",
    "1,vermelho,2,verde,3,amarelo,4,roxo\n",
    "5,verde,6,preto,7,laranja,8,amarelo\n",
    "9,preto,10,roxo,11,roxo,12,branco\n",
    "Chamada:\n",
    "gera_tupla(teste.txt)\n",
    "Retorno:\n",
    "[(1,'vermelho'),(2,'verde'),(3,'amarelo'),(4,'roxo'),(5,'verde\n",
    "'),(6,'preto'),(7,'laranja'),(8,'amarelo'),(9,'preto'),(10,'ro\n",
    "xo'),(11,'roxo'),(12,'branco')]"
   ]
  },
  {
   "cell_type": "code",
   "execution_count": null,
   "metadata": {},
   "outputs": [],
   "source": [
    "file = open('teste.txt','r')\n",
    "\n",
    "def tupla():\n",
    "    for a in file:\n",
    "        c = a.split(',')\n",
    "\n",
    "        yield (c[0],c[1])\n",
    "        yield (c[2],c[3])\n",
    "        yield (c[4],c[5])\n",
    "        yield (c[6],c[7].replace(\"\\n\", \"\"))\n",
    "        \n",
    "def gera_tupla():\n",
    "    g = tupla()\n",
    "    v = []\n",
    "    \n",
    "    for i in g:\n",
    "        v.append(i)\n",
    "    \n",
    "    return v\n",
    "\n",
    "gera_tupla()"
   ]
  },
  {
   "cell_type": "markdown",
   "metadata": {},
   "source": [
    "3 Implementar dois geradores e rodá-los em paralelo (coroutine) para processar dois\n",
    "arquivos e gerar tuplas. O primeiro é similar ao do exercício 2. O segundo processa\n",
    "outro arquivo, também separado por vírgulas. No final, a lista gerada deve conter\n",
    "tuplas com 3 elementos. Use o exemplo baixo como base:\n",
    "Entrada:\n",
    "teste1.txt\n",
    "1,vermelho,2,verde,3,amarelo,4,roxo\n",
    "5,verde,6,preto,7,laranja,8,amarelo\n",
    "9,preto,10,roxo,11,roxo,12,branco\n",
    "teste2.txt\n",
    "0,1,0,0\n",
    "1,1,1,0\n",
    "1,0,0,1\n",
    "Chamada:\n",
    "gera_tupla1(teste1.txt), gera_tupla2(teste2.txt)\n",
    "Retorno:\n",
    "[(1,'vermelho',False),(2,'verde',True),(3,'amarelo',False),(4,\n",
    "'roxo',False),(5,'verde',True),(6,'preto',True),(7,'laranja',T\n",
    "rue),(8,'amarelo',False),(9,'preto',True),(10,'roxo',False),(1\n",
    "1,'roxo',False),(12,'branco',True)]"
   ]
  },
  {
   "cell_type": "code",
   "execution_count": null,
   "metadata": {},
   "outputs": [],
   "source": []
  },
  {
   "cell_type": "markdown",
   "metadata": {},
   "source": [
    "4 Escreva um generator que crie um fluxo infinito de inteiros a partir de um valor\n",
    "inicial dado com passo 5.\n",
    "Ex: gera_inteiros(7) = 12, 17, 22, 27, ..."
   ]
  },
  {
   "cell_type": "code",
   "execution_count": null,
   "metadata": {},
   "outputs": [],
   "source": [
    "def gera_inteiros(n):\n",
    "    while True:\n",
    "        n+=5\n",
    "        x = yield n\n",
    "\n",
    "g = gera_inteiros(7)\n",
    "\n",
    "for i in g:\n",
    "    print(i)\n",
    "    \n",
    "\n",
    "\n"
   ]
  },
  {
   "cell_type": "markdown",
   "metadata": {},
   "source": [
    "5 Estenda o generator do exercício 4 em uma coroutine que permita que a mudança\n",
    "do passo seja feita de fora (use send()).\n",
    "Ex: gera_inteiros_flex(7) = 12, 17, 22, 24, 26, 28, 30...\n",
    "Entre 22 e 24 o passo foi alterado de 5 para 2."
   ]
  },
  {
   "cell_type": "code",
   "execution_count": null,
   "metadata": {},
   "outputs": [],
   "source": [
    "def gera_inteiros_flex(n):\n",
    "    \n",
    "    while True:\n",
    "        \n",
    "        x = n + 5\n",
    "        yield x\n",
    "        \n",
    "        while True:\n",
    "            y = yield\n",
    "            \n",
    "            x += y\n",
    "            \n",
    "            yield x\n",
    "            \n",
    "\n",
    "g = gera_inteiros_flex(7)\n",
    "g.send(None)\n",
    "\n",
    "i = 0\n",
    "while i < 10:\n",
    "    print(next(g))\n",
    "    \n",
    "    if i < 2:\n",
    "        g.send(5)\n",
    "    else:\n",
    "        g.send(2)\n",
    "     \n",
    "\n",
    "\n",
    "    \n",
    "\n",
    "\n",
    "        \n",
    "        "
   ]
  },
  {
   "cell_type": "code",
   "execution_count": null,
   "metadata": {},
   "outputs": [],
   "source": []
  }
 ],
 "metadata": {
  "kernelspec": {
   "display_name": "Python 3",
   "language": "python",
   "name": "python3"
  },
  "language_info": {
   "codemirror_mode": {
    "name": "ipython",
    "version": 3
   },
   "file_extension": ".py",
   "mimetype": "text/x-python",
   "name": "python",
   "nbconvert_exporter": "python",
   "pygments_lexer": "ipython3",
   "version": "3.6.5"
  }
 },
 "nbformat": 4,
 "nbformat_minor": 2
}
